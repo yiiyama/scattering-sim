{
 "cells": [
  {
   "cell_type": "code",
   "execution_count": 1,
   "id": "627057e7-206b-4796-a456-b0ebf0d80247",
   "metadata": {},
   "outputs": [],
   "source": [
    "import qutip as qtp\n",
    "import numpy as np\n",
    "from sympy.utilities.iterables import multiset_permutations\n",
    "import matplotlib.pyplot as plt\n",
    "from IPython.display import display, Math"
   ]
  },
  {
   "cell_type": "markdown",
   "id": "f5b5e292-ea04-48e6-b612-9cf8e1f9a91d",
   "metadata": {},
   "source": [
    "## Setup parameters"
   ]
  },
  {
   "cell_type": "code",
   "execution_count": 2,
   "id": "6181edf8-acaa-479e-9bfa-7ad3eca9463a",
   "metadata": {},
   "outputs": [],
   "source": [
    "num_mode_bits = 2\n",
    "mode_dim = 2 ** num_mode_bits\n",
    "num_modes = mode_dim - 1 # 7 site lattice\n",
    "pmin = -mode_dim // 2 + 1\n",
    "pmax = mode_dim // 2 - 1\n",
    "null_mode = 2 ** (num_mode_bits - 1)\n",
    "max_num_particles = 3"
   ]
  },
  {
   "cell_type": "markdown",
   "id": "1a2b2e95-7bb1-4797-8a2c-54dcc91cf536",
   "metadata": {},
   "source": [
    "## Operators"
   ]
  },
  {
   "cell_type": "code",
   "execution_count": 3,
   "id": "c42cd404-1262-45b8-84a5-d23a2fbb7128",
   "metadata": {},
   "outputs": [],
   "source": [
    "def particle_ket(p):\n",
    "    p_label = (p + mode_dim) % mode_dim\n",
    "    return qtp.basis(mode_dim, p_label)\n",
    "\n",
    "null_ket = qtp.basis(mode_dim, null_mode)\n",
    "null_proj = null_ket.proj()\n",
    "nonnull_proj = qtp.qeye(mode_dim) - null_proj\n",
    "\n",
    "def particle_creation(ipart, p):\n",
    "    cr = particle_ket(p) * null_ket.dag()\n",
    "    p0 = null_proj\n",
    "    \n",
    "    ops = [nonnull_proj for _ in range(ipart)]\n",
    "    ops.append(cr)\n",
    "    ops += [p0 for _ in range(ipart + 1, max_num_particles)]\n",
    "        \n",
    "    return qtp.tensor(ops[::-1])\n",
    "\n",
    "def swap(source, target):\n",
    "    ops = [nonnull_proj for _ in range(target)]\n",
    "    \n",
    "    if source == target:\n",
    "        ops.append(nonnull_proj)\n",
    "    else:\n",
    "        swap_block = qtp.Qobj()\n",
    "        for k in range(mode_dim):\n",
    "            if k == null_mode:\n",
    "                continue\n",
    "            \n",
    "            for l in range(mode_dim):\n",
    "                if l == null_mode:\n",
    "                    continue\n",
    "\n",
    "                swap_ops = [qtp.basis(mode_dim, k) * qtp.basis(mode_dim, l).dag()] # target slot\n",
    "                swap_ops += [nonnull_proj for _ in range(target + 1, source)] # slots in between\n",
    "                swap_ops.append(qtp.basis(mode_dim, l) * qtp.basis(mode_dim, k).dag()) # source slot\n",
    "\n",
    "                swap_block += qtp.tensor(swap_ops[::-1])\n",
    "\n",
    "        ops.append(qtp.tensor(swap_block))\n",
    "\n",
    "    ops += [null_proj for _ in range(source + 1, max_num_particles)]\n",
    "                \n",
    "    return qtp.tensor(ops[::-1])\n",
    "\n",
    "def symmetrizer(ipart):\n",
    "    full_op = qtp.Qobj()\n",
    "    \n",
    "    for itarg in range(ipart + 1):\n",
    "        full_op += swap(ipart, itarg)\n",
    "        \n",
    "    return full_op\n",
    "\n",
    "def creation(p):\n",
    "    full_op = qtp.Qobj()\n",
    "    \n",
    "    for ipart in range(max_num_particles):\n",
    "        full_op += 1. / np.sqrt(ipart + 1) * symmetrizer(ipart) * particle_creation(ipart, p)\n",
    "        \n",
    "    return full_op"
   ]
  },
  {
   "cell_type": "markdown",
   "id": "a28f533e-f1d1-4433-845f-2be9b61af525",
   "metadata": {},
   "source": [
    "## States"
   ]
  },
  {
   "cell_type": "code",
   "execution_count": 4,
   "id": "471d0329-ff78-4f66-b14a-5d93bdfbfca6",
   "metadata": {},
   "outputs": [],
   "source": [
    "vacuum = qtp.tensor([null_ket] * max_num_particles)\n",
    "\n",
    "def fock_state(occupancy):\n",
    "    num_particles = sum(occ for p, occ in occupancy)\n",
    "    if num_particles > max_num_particles:\n",
    "        raise RuntimeError('Too many particles')\n",
    "        \n",
    "    modes_list = sum(([p] * occ for p, occ in occupancy), [])\n",
    "    permutations = list(multiset_permutations(modes_list))\n",
    "    \n",
    "    zero_pad = [null_ket] * (max_num_particles - num_particles)\n",
    "\n",
    "    state = qtp.Qobj()\n",
    "    \n",
    "    for perm in permutations:\n",
    "        state += qtp.tensor(zero_pad + [particle_ket(p) for p in perm])\n",
    "        \n",
    "    state /= np.sqrt(len(permutations))\n",
    "        \n",
    "    return state\n",
    "\n"
   ]
  },
  {
   "cell_type": "code",
   "execution_count": 17,
   "id": "99cc9b5b-3f33-48a9-901f-e83b65b5b353",
   "metadata": {},
   "outputs": [],
   "source": [
    "all_fock_states = []\n",
    "fock_space_proj = qtp.Qobj()\n",
    "for num_particles in range(max_num_particles + 1):\n",
    "    for perm in multiset_permutations('p' * num_particles + 'd' * (num_modes - 1)):\n",
    "        occupancy = []\n",
    "        p = pmin\n",
    "        occ = 0\n",
    "        for l in perm:\n",
    "            if l == 'p':\n",
    "                occ += 1\n",
    "            else:\n",
    "                occupancy.append((p, occ))\n",
    "                p += 1\n",
    "                occ = 0\n",
    "\n",
    "        occupancy.append((p, occ))\n",
    "\n",
    "        state = fock_state(occupancy)\n",
    "\n",
    "        all_fock_states.append(state)\n",
    "        fock_space_proj += state.proj()"
   ]
  },
  {
   "cell_type": "markdown",
   "id": "54c9ca0d-2ec3-48eb-b9c0-6744876aad6f",
   "metadata": {},
   "source": [
    "## Operator representation"
   ]
  },
  {
   "cell_type": "code",
   "execution_count": 6,
   "id": "09e971f3-ed6e-4f3c-8683-6eae6a8ebb0a",
   "metadata": {},
   "outputs": [],
   "source": [
    "def state_repr(istate, ipart):\n",
    "    plabel = (istate >> num_mode_bits * ipart) & (mode_dim - 1)\n",
    "\n",
    "    if plabel == null_mode:\n",
    "        return r'\\emptyset'\n",
    "    else:\n",
    "        return '{' + str((plabel + mode_dim // 2) % mode_dim - mode_dim // 2) + '}'\n",
    "\n",
    "def print_op(qobj):\n",
    "    if not qobj.isoper:\n",
    "        raise RuntimeError('Qobj is not an operator')\n",
    "        \n",
    "    spmat = qobj.data.tolil()\n",
    "    \n",
    "    expr = ''\n",
    "    for irow, icol in zip(*spmat.nonzero()):\n",
    "        elem = spmat[irow, icol]\n",
    "        if elem.imag != 0.:\n",
    "            if expr:\n",
    "                expr += ' + '\n",
    "            expr += r'({:.2f}{:+.2f}i)'.format(elem.real, elem.imag)\n",
    "            \n",
    "        else:\n",
    "            if elem.real < 0.:\n",
    "                expr += ' - '\n",
    "            elif expr:\n",
    "                expr += ' + '\n",
    "\n",
    "        expr += r'{:.2f}'.format(abs(elem.real))\n",
    "            \n",
    "        row_state = tuple(state_repr(irow, i) for i in range(max_num_particles))\n",
    "        col_state = tuple(state_repr(icol, i) for i in range(max_num_particles))\n",
    "\n",
    "        expr += r' | {} \\rangle \\langle {} |'.format(r'\\,'.join(row_state[::-1]), r'\\,'.join(col_state[::-1]))\n",
    "        \n",
    "    display(Math(expr))\n",
    "    \n",
    "def print_state(qobj):\n",
    "    if not (qobj.isket or qobj.isbra):\n",
    "        raise RuntimeError('Qobj is not a state')\n",
    "        \n",
    "    spmat = qobj.data.tolil()\n",
    "    if qobj.isket:\n",
    "        indices = spmat.nonzero()[0]\n",
    "        data = spmat.toarray()[:, 0]\n",
    "    else:\n",
    "        indices = spmat.nonzero()[1]\n",
    "        data = spmat.toarray()[0]\n",
    "    \n",
    "    expr = ''\n",
    "    for ielem in indices:\n",
    "        elem = data[ielem]\n",
    "        if elem.imag != 0.:\n",
    "            if expr:\n",
    "                expr += ' + '\n",
    "            expr += r'({:.2f}{:+.2f}i)'.format(elem.real, elem.imag)\n",
    "            \n",
    "        else:\n",
    "            if elem.real < 0.:\n",
    "                expr += ' - '\n",
    "            elif expr:\n",
    "                expr += ' + '\n",
    "\n",
    "        expr += r'{:.2f}'.format(abs(elem.real))\n",
    "            \n",
    "        state = tuple(state_repr(ielem, i) for i in range(max_num_particles))\n",
    "\n",
    "        if qobj.isket:\n",
    "            expr += r' | {} \\rangle'.format(r'\\,'.join(state[::-1]))\n",
    "        else:\n",
    "            expr += r' \\langle {} |'.format(r'\\,'.join(state[::-1]))\n",
    "            \n",
    "    display(Math(expr))    "
   ]
  },
  {
   "cell_type": "code",
   "execution_count": 7,
   "id": "7433da24-0016-41ce-90a9-3e970977c514",
   "metadata": {},
   "outputs": [
    {
     "data": {
      "text/latex": [
       "$\\displaystyle 1.00 | \\emptyset\\,\\emptyset\\,{1} \\rangle \\langle \\emptyset\\,\\emptyset\\,\\emptyset |$"
      ],
      "text/plain": [
       "<IPython.core.display.Math object>"
      ]
     },
     "metadata": {},
     "output_type": "display_data"
    }
   ],
   "source": [
    "print_op(particle_creation(0, 1))"
   ]
  },
  {
   "cell_type": "code",
   "execution_count": 8,
   "id": "b39fd354-2cd3-42ce-a1db-447629bab5f9",
   "metadata": {},
   "outputs": [
    {
     "data": {
      "text/latex": [
       "$\\displaystyle 1.00 | \\emptyset\\,\\emptyset\\,{0} \\rangle \\langle \\emptyset\\,\\emptyset\\,{0} | + 1.00 | \\emptyset\\,\\emptyset\\,{1} \\rangle \\langle \\emptyset\\,\\emptyset\\,{1} | + 1.00 | \\emptyset\\,\\emptyset\\,{-1} \\rangle \\langle \\emptyset\\,\\emptyset\\,{-1} |$"
      ],
      "text/plain": [
       "<IPython.core.display.Math object>"
      ]
     },
     "metadata": {},
     "output_type": "display_data"
    }
   ],
   "source": [
    "print_op(symmetrizer(0))"
   ]
  },
  {
   "cell_type": "code",
   "execution_count": 9,
   "id": "938f2b3c-ea3c-4862-8719-e5efe18ba03d",
   "metadata": {},
   "outputs": [
    {
     "data": {
      "text/latex": [
       "$\\displaystyle 0.58 | {0}\\,{0}\\,{1} \\rangle \\langle \\emptyset\\,{0}\\,{0} | + 0.58 | {0}\\,{1}\\,{0} \\rangle \\langle \\emptyset\\,{0}\\,{0} | + 0.58 | {0}\\,{1}\\,{1} \\rangle \\langle \\emptyset\\,{0}\\,{1} | + 0.58 | {0}\\,{1}\\,{1} \\rangle \\langle \\emptyset\\,{1}\\,{0} | + 0.58 | {0}\\,{1}\\,{-1} \\rangle \\langle \\emptyset\\,{0}\\,{-1} | + 0.58 | {0}\\,{-1}\\,{1} \\rangle \\langle \\emptyset\\,{-1}\\,{0} | + 0.58 | {1}\\,{0}\\,{0} \\rangle \\langle \\emptyset\\,{0}\\,{0} | + 1.15 | {1}\\,{0}\\,{1} \\rangle \\langle \\emptyset\\,{0}\\,{1} | + 0.58 | {1}\\,{0}\\,{-1} \\rangle \\langle \\emptyset\\,{0}\\,{-1} | + 1.15 | {1}\\,{1}\\,{0} \\rangle \\langle \\emptyset\\,{1}\\,{0} | + 1.73 | {1}\\,{1}\\,{1} \\rangle \\langle \\emptyset\\,{1}\\,{1} | + 1.15 | {1}\\,{1}\\,{-1} \\rangle \\langle \\emptyset\\,{1}\\,{-1} | + 0.58 | {1}\\,{-1}\\,{0} \\rangle \\langle \\emptyset\\,{-1}\\,{0} | + 1.15 | {1}\\,{-1}\\,{1} \\rangle \\langle \\emptyset\\,{-1}\\,{1} | + 0.58 | {1}\\,{-1}\\,{-1} \\rangle \\langle \\emptyset\\,{-1}\\,{-1} | + 0.71 | \\emptyset\\,{0}\\,{1} \\rangle \\langle \\emptyset\\,\\emptyset\\,{0} | + 0.71 | \\emptyset\\,{1}\\,{0} \\rangle \\langle \\emptyset\\,\\emptyset\\,{0} | + 1.41 | \\emptyset\\,{1}\\,{1} \\rangle \\langle \\emptyset\\,\\emptyset\\,{1} | + 0.71 | \\emptyset\\,{1}\\,{-1} \\rangle \\langle \\emptyset\\,\\emptyset\\,{-1} | + 1.00 | \\emptyset\\,\\emptyset\\,{1} \\rangle \\langle \\emptyset\\,\\emptyset\\,\\emptyset | + 0.71 | \\emptyset\\,{-1}\\,{1} \\rangle \\langle \\emptyset\\,\\emptyset\\,{-1} | + 0.58 | {-1}\\,{0}\\,{1} \\rangle \\langle \\emptyset\\,{0}\\,{-1} | + 0.58 | {-1}\\,{1}\\,{0} \\rangle \\langle \\emptyset\\,{-1}\\,{0} | + 0.58 | {-1}\\,{1}\\,{1} \\rangle \\langle \\emptyset\\,{1}\\,{-1} | + 0.58 | {-1}\\,{1}\\,{1} \\rangle \\langle \\emptyset\\,{-1}\\,{1} | + 0.58 | {-1}\\,{1}\\,{-1} \\rangle \\langle \\emptyset\\,{-1}\\,{-1} | + 0.58 | {-1}\\,{-1}\\,{1} \\rangle \\langle \\emptyset\\,{-1}\\,{-1} |$"
      ],
      "text/plain": [
       "<IPython.core.display.Math object>"
      ]
     },
     "metadata": {},
     "output_type": "display_data"
    }
   ],
   "source": [
    "print_op(creation(1))"
   ]
  },
  {
   "cell_type": "code",
   "execution_count": 10,
   "id": "830382f2-95b9-4039-b519-f5c8aee69644",
   "metadata": {},
   "outputs": [
    {
     "data": {
      "text/latex": [
       "$\\displaystyle 0.58 | {0}\\,{0}\\,{1} \\rangle + 0.58 | {0}\\,{1}\\,{0} \\rangle + 0.58 | {1}\\,{0}\\,{0} \\rangle$"
      ],
      "text/plain": [
       "<IPython.core.display.Math object>"
      ]
     },
     "metadata": {},
     "output_type": "display_data"
    }
   ],
   "source": [
    "print_state(fock_state([(0, 2), (1, 1)]))"
   ]
  },
  {
   "cell_type": "code",
   "execution_count": 11,
   "id": "6e9d2a39-2ac7-46db-a9c4-ad5314c5fd4d",
   "metadata": {},
   "outputs": [
    {
     "data": {
      "text/latex": [
       "$\\displaystyle 0.82 | {0}\\,{1}\\,{1} \\rangle + 0.82 | {1}\\,{0}\\,{1} \\rangle + 0.82 | {1}\\,{1}\\,{0} \\rangle$"
      ],
      "text/plain": [
       "<IPython.core.display.Math object>"
      ]
     },
     "metadata": {},
     "output_type": "display_data"
    }
   ],
   "source": [
    "print_state(creation(1) * creation(0) * creation(1) * vacuum)"
   ]
  },
  {
   "cell_type": "code",
   "execution_count": 12,
   "id": "975b1f72-c618-429a-b23c-76cb3b106e32",
   "metadata": {},
   "outputs": [
    {
     "data": {
      "text/latex": [
       "Quantum object: dims = [[1], [1]], shape = (1, 1), type = bra\\begin{equation*}\\left(\\begin{array}{*{11}c}1.414\\\\\\end{array}\\right)\\end{equation*}"
      ],
      "text/plain": [
       "Quantum object: dims = [[1], [1]], shape = (1, 1), type = bra\n",
       "Qobj data =\n",
       "[[1.41421356]]"
      ]
     },
     "execution_count": 12,
     "metadata": {},
     "output_type": "execute_result"
    }
   ],
   "source": [
    "fock_state([(0, 2)]).dag() * ((creation(0) ** 2) * vacuum)"
   ]
  },
  {
   "cell_type": "code",
   "execution_count": 13,
   "id": "1075e9f4-83be-4bcd-b6b0-db3bcaa754d8",
   "metadata": {},
   "outputs": [],
   "source": [
    "Ap_dag = creation(1)\n",
    "Ap = Ap_dag.dag()\n",
    "\n",
    "com = qtp.commutator(Ap, Ap_dag)"
   ]
  },
  {
   "cell_type": "code",
   "execution_count": 14,
   "id": "663e779c-7ed7-49d7-8bc5-39228014a3a8",
   "metadata": {},
   "outputs": [
    {
     "data": {
      "text/latex": [
       "$\\displaystyle  - 0.33 | {0}\\,{0}\\,{1} \\rangle \\langle {0}\\,{0}\\,{1} | - 0.33 | {0}\\,{0}\\,{1} \\rangle \\langle {0}\\,{1}\\,{0} | - 0.33 | {0}\\,{0}\\,{1} \\rangle \\langle {1}\\,{0}\\,{0} | - 0.33 | {0}\\,{1}\\,{0} \\rangle \\langle {0}\\,{0}\\,{1} | - 0.33 | {0}\\,{1}\\,{0} \\rangle \\langle {0}\\,{1}\\,{0} | - 0.33 | {0}\\,{1}\\,{0} \\rangle \\langle {1}\\,{0}\\,{0} | - 0.67 | {0}\\,{1}\\,{1} \\rangle \\langle {0}\\,{1}\\,{1} | - 0.67 | {0}\\,{1}\\,{1} \\rangle \\langle {1}\\,{0}\\,{1} | - 0.67 | {0}\\,{1}\\,{1} \\rangle \\langle {1}\\,{1}\\,{0} | - 0.17 | {0}\\,{1}\\,{-1} \\rangle \\langle {0}\\,{1}\\,{-1} | - 0.17 | {0}\\,{1}\\,{-1} \\rangle \\langle {0}\\,{-1}\\,{1} | - 0.17 | {0}\\,{1}\\,{-1} \\rangle \\langle {1}\\,{0}\\,{-1} | - 0.17 | {0}\\,{1}\\,{-1} \\rangle \\langle {1}\\,{-1}\\,{0} | - 0.17 | {0}\\,{1}\\,{-1} \\rangle \\langle {-1}\\,{0}\\,{1} | - 0.17 | {0}\\,{1}\\,{-1} \\rangle \\langle {-1}\\,{1}\\,{0} | - 0.17 | {0}\\,{-1}\\,{1} \\rangle \\langle {0}\\,{1}\\,{-1} | - 0.17 | {0}\\,{-1}\\,{1} \\rangle \\langle {0}\\,{-1}\\,{1} | - 0.17 | {0}\\,{-1}\\,{1} \\rangle \\langle {1}\\,{0}\\,{-1} | - 0.17 | {0}\\,{-1}\\,{1} \\rangle \\langle {1}\\,{-1}\\,{0} | - 0.17 | {0}\\,{-1}\\,{1} \\rangle \\langle {-1}\\,{0}\\,{1} | - 0.17 | {0}\\,{-1}\\,{1} \\rangle \\langle {-1}\\,{1}\\,{0} | - 0.33 | {1}\\,{0}\\,{0} \\rangle \\langle {0}\\,{0}\\,{1} | - 0.33 | {1}\\,{0}\\,{0} \\rangle \\langle {0}\\,{1}\\,{0} | - 0.33 | {1}\\,{0}\\,{0} \\rangle \\langle {1}\\,{0}\\,{0} | - 0.67 | {1}\\,{0}\\,{1} \\rangle \\langle {0}\\,{1}\\,{1} | - 0.67 | {1}\\,{0}\\,{1} \\rangle \\langle {1}\\,{0}\\,{1} | - 0.67 | {1}\\,{0}\\,{1} \\rangle \\langle {1}\\,{1}\\,{0} | - 0.17 | {1}\\,{0}\\,{-1} \\rangle \\langle {0}\\,{1}\\,{-1} | - 0.17 | {1}\\,{0}\\,{-1} \\rangle \\langle {0}\\,{-1}\\,{1} | - 0.17 | {1}\\,{0}\\,{-1} \\rangle \\langle {1}\\,{0}\\,{-1} | - 0.17 | {1}\\,{0}\\,{-1} \\rangle \\langle {1}\\,{-1}\\,{0} | - 0.17 | {1}\\,{0}\\,{-1} \\rangle \\langle {-1}\\,{0}\\,{1} | - 0.17 | {1}\\,{0}\\,{-1} \\rangle \\langle {-1}\\,{1}\\,{0} | - 0.67 | {1}\\,{1}\\,{0} \\rangle \\langle {0}\\,{1}\\,{1} | - 0.67 | {1}\\,{1}\\,{0} \\rangle \\langle {1}\\,{0}\\,{1} | - 0.67 | {1}\\,{1}\\,{0} \\rangle \\langle {1}\\,{1}\\,{0} | - 3.00 | {1}\\,{1}\\,{1} \\rangle \\langle {1}\\,{1}\\,{1} | - 0.67 | {1}\\,{1}\\,{-1} \\rangle \\langle {1}\\,{1}\\,{-1} | - 0.67 | {1}\\,{1}\\,{-1} \\rangle \\langle {1}\\,{-1}\\,{1} | - 0.67 | {1}\\,{1}\\,{-1} \\rangle \\langle {-1}\\,{1}\\,{1} | - 0.17 | {1}\\,{-1}\\,{0} \\rangle \\langle {0}\\,{1}\\,{-1} | - 0.17 | {1}\\,{-1}\\,{0} \\rangle \\langle {0}\\,{-1}\\,{1} | - 0.17 | {1}\\,{-1}\\,{0} \\rangle \\langle {1}\\,{0}\\,{-1} | - 0.17 | {1}\\,{-1}\\,{0} \\rangle \\langle {1}\\,{-1}\\,{0} | - 0.17 | {1}\\,{-1}\\,{0} \\rangle \\langle {-1}\\,{0}\\,{1} | - 0.17 | {1}\\,{-1}\\,{0} \\rangle \\langle {-1}\\,{1}\\,{0} | - 0.67 | {1}\\,{-1}\\,{1} \\rangle \\langle {1}\\,{1}\\,{-1} | - 0.67 | {1}\\,{-1}\\,{1} \\rangle \\langle {1}\\,{-1}\\,{1} | - 0.67 | {1}\\,{-1}\\,{1} \\rangle \\langle {-1}\\,{1}\\,{1} | - 0.33 | {1}\\,{-1}\\,{-1} \\rangle \\langle {1}\\,{-1}\\,{-1} | - 0.33 | {1}\\,{-1}\\,{-1} \\rangle \\langle {-1}\\,{1}\\,{-1} | - 0.33 | {1}\\,{-1}\\,{-1} \\rangle \\langle {-1}\\,{-1}\\,{1} | + 1.00 | \\emptyset\\,{0}\\,{0} \\rangle \\langle \\emptyset\\,{0}\\,{0} | + 0.50 | \\emptyset\\,{0}\\,{1} \\rangle \\langle \\emptyset\\,{0}\\,{1} | + 0.50 | \\emptyset\\,{0}\\,{1} \\rangle \\langle \\emptyset\\,{1}\\,{0} | + 0.50 | \\emptyset\\,{0}\\,{-1} \\rangle \\langle \\emptyset\\,{0}\\,{-1} | + 0.50 | \\emptyset\\,{0}\\,{-1} \\rangle \\langle \\emptyset\\,{-1}\\,{0} | + 0.50 | \\emptyset\\,{1}\\,{0} \\rangle \\langle \\emptyset\\,{0}\\,{1} | + 0.50 | \\emptyset\\,{1}\\,{0} \\rangle \\langle \\emptyset\\,{1}\\,{0} | + 1.00 | \\emptyset\\,{1}\\,{1} \\rangle \\langle \\emptyset\\,{1}\\,{1} | + 0.50 | \\emptyset\\,{1}\\,{-1} \\rangle \\langle \\emptyset\\,{1}\\,{-1} | + 0.50 | \\emptyset\\,{1}\\,{-1} \\rangle \\langle \\emptyset\\,{-1}\\,{1} | + 1.00 | \\emptyset\\,\\emptyset\\,{0} \\rangle \\langle \\emptyset\\,\\emptyset\\,{0} | + 1.00 | \\emptyset\\,\\emptyset\\,{1} \\rangle \\langle \\emptyset\\,\\emptyset\\,{1} | + 1.00 | \\emptyset\\,\\emptyset\\,\\emptyset \\rangle \\langle \\emptyset\\,\\emptyset\\,\\emptyset | + 1.00 | \\emptyset\\,\\emptyset\\,{-1} \\rangle \\langle \\emptyset\\,\\emptyset\\,{-1} | + 0.50 | \\emptyset\\,{-1}\\,{0} \\rangle \\langle \\emptyset\\,{0}\\,{-1} | + 0.50 | \\emptyset\\,{-1}\\,{0} \\rangle \\langle \\emptyset\\,{-1}\\,{0} | + 0.50 | \\emptyset\\,{-1}\\,{1} \\rangle \\langle \\emptyset\\,{1}\\,{-1} | + 0.50 | \\emptyset\\,{-1}\\,{1} \\rangle \\langle \\emptyset\\,{-1}\\,{1} | + 1.00 | \\emptyset\\,{-1}\\,{-1} \\rangle \\langle \\emptyset\\,{-1}\\,{-1} | - 0.17 | {-1}\\,{0}\\,{1} \\rangle \\langle {0}\\,{1}\\,{-1} | - 0.17 | {-1}\\,{0}\\,{1} \\rangle \\langle {0}\\,{-1}\\,{1} | - 0.17 | {-1}\\,{0}\\,{1} \\rangle \\langle {1}\\,{0}\\,{-1} | - 0.17 | {-1}\\,{0}\\,{1} \\rangle \\langle {1}\\,{-1}\\,{0} | - 0.17 | {-1}\\,{0}\\,{1} \\rangle \\langle {-1}\\,{0}\\,{1} | - 0.17 | {-1}\\,{0}\\,{1} \\rangle \\langle {-1}\\,{1}\\,{0} | - 0.17 | {-1}\\,{1}\\,{0} \\rangle \\langle {0}\\,{1}\\,{-1} | - 0.17 | {-1}\\,{1}\\,{0} \\rangle \\langle {0}\\,{-1}\\,{1} | - 0.17 | {-1}\\,{1}\\,{0} \\rangle \\langle {1}\\,{0}\\,{-1} | - 0.17 | {-1}\\,{1}\\,{0} \\rangle \\langle {1}\\,{-1}\\,{0} | - 0.17 | {-1}\\,{1}\\,{0} \\rangle \\langle {-1}\\,{0}\\,{1} | - 0.17 | {-1}\\,{1}\\,{0} \\rangle \\langle {-1}\\,{1}\\,{0} | - 0.67 | {-1}\\,{1}\\,{1} \\rangle \\langle {1}\\,{1}\\,{-1} | - 0.67 | {-1}\\,{1}\\,{1} \\rangle \\langle {1}\\,{-1}\\,{1} | - 0.67 | {-1}\\,{1}\\,{1} \\rangle \\langle {-1}\\,{1}\\,{1} | - 0.33 | {-1}\\,{1}\\,{-1} \\rangle \\langle {1}\\,{-1}\\,{-1} | - 0.33 | {-1}\\,{1}\\,{-1} \\rangle \\langle {-1}\\,{1}\\,{-1} | - 0.33 | {-1}\\,{1}\\,{-1} \\rangle \\langle {-1}\\,{-1}\\,{1} | - 0.33 | {-1}\\,{-1}\\,{1} \\rangle \\langle {1}\\,{-1}\\,{-1} | - 0.33 | {-1}\\,{-1}\\,{1} \\rangle \\langle {-1}\\,{1}\\,{-1} | - 0.33 | {-1}\\,{-1}\\,{1} \\rangle \\langle {-1}\\,{-1}\\,{1} |$"
      ],
      "text/plain": [
       "<IPython.core.display.Math object>"
      ]
     },
     "metadata": {},
     "output_type": "display_data"
    }
   ],
   "source": [
    "print_op(com * fock_space_proj)"
   ]
  },
  {
   "cell_type": "code",
   "execution_count": 15,
   "id": "e9f283e6-951e-4270-ac09-47b12b305764",
   "metadata": {},
   "outputs": [
    {
     "data": {
      "text/latex": [
       "$\\displaystyle 1.00 | \\emptyset\\,\\emptyset\\,\\emptyset \\rangle$"
      ],
      "text/plain": [
       "<IPython.core.display.Math object>"
      ]
     },
     "metadata": {},
     "output_type": "display_data"
    }
   ],
   "source": [
    "print_state(Ap * Ap_dag * vacuum)"
   ]
  },
  {
   "cell_type": "code",
   "execution_count": 24,
   "id": "b8166d71-2153-4afc-8226-1fda268885c3",
   "metadata": {},
   "outputs": [
    {
     "data": {
      "text/latex": [
       "$\\displaystyle 1.00 | {1}\\,{1}\\,{1} \\rangle$"
      ],
      "text/plain": [
       "<IPython.core.display.Math object>"
      ]
     },
     "metadata": {},
     "output_type": "display_data"
    },
    {
     "name": "stdout",
     "output_type": "stream",
     "text": [
      "->\n"
     ]
    },
    {
     "data": {
      "text/latex": [
       "$\\displaystyle  - 3.00 | {1}\\,{1}\\,{1} \\rangle$"
      ],
      "text/plain": [
       "<IPython.core.display.Math object>"
      ]
     },
     "metadata": {},
     "output_type": "display_data"
    },
    {
     "data": {
      "text/latex": [
       "$\\displaystyle 0.58 | {0}\\,{1}\\,{1} \\rangle + 0.58 | {1}\\,{0}\\,{1} \\rangle + 0.58 | {1}\\,{1}\\,{0} \\rangle$"
      ],
      "text/plain": [
       "<IPython.core.display.Math object>"
      ]
     },
     "metadata": {},
     "output_type": "display_data"
    },
    {
     "name": "stdout",
     "output_type": "stream",
     "text": [
      "->\n"
     ]
    },
    {
     "data": {
      "text/latex": [
       "$\\displaystyle  - 1.15 | {0}\\,{1}\\,{1} \\rangle - 1.15 | {1}\\,{0}\\,{1} \\rangle - 1.15 | {1}\\,{1}\\,{0} \\rangle$"
      ],
      "text/plain": [
       "<IPython.core.display.Math object>"
      ]
     },
     "metadata": {},
     "output_type": "display_data"
    },
    {
     "data": {
      "text/latex": [
       "$\\displaystyle 0.58 | {0}\\,{0}\\,{1} \\rangle + 0.58 | {0}\\,{1}\\,{0} \\rangle + 0.58 | {1}\\,{0}\\,{0} \\rangle$"
      ],
      "text/plain": [
       "<IPython.core.display.Math object>"
      ]
     },
     "metadata": {},
     "output_type": "display_data"
    },
    {
     "name": "stdout",
     "output_type": "stream",
     "text": [
      "->\n"
     ]
    },
    {
     "data": {
      "text/latex": [
       "$\\displaystyle  - 0.58 | {0}\\,{0}\\,{1} \\rangle - 0.58 | {0}\\,{1}\\,{0} \\rangle - 0.58 | {1}\\,{0}\\,{0} \\rangle$"
      ],
      "text/plain": [
       "<IPython.core.display.Math object>"
      ]
     },
     "metadata": {},
     "output_type": "display_data"
    },
    {
     "data": {
      "text/latex": [
       "$\\displaystyle 1.00 | {0}\\,{0}\\,{0} \\rangle$"
      ],
      "text/plain": [
       "<IPython.core.display.Math object>"
      ]
     },
     "metadata": {},
     "output_type": "display_data"
    },
    {
     "name": "stdout",
     "output_type": "stream",
     "text": [
      "->\n"
     ]
    },
    {
     "data": {
      "text/latex": [
       "$\\displaystyle $"
      ],
      "text/plain": [
       "<IPython.core.display.Math object>"
      ]
     },
     "metadata": {},
     "output_type": "display_data"
    },
    {
     "data": {
      "text/latex": [
       "$\\displaystyle 0.58 | {1}\\,{1}\\,{-1} \\rangle + 0.58 | {1}\\,{-1}\\,{1} \\rangle + 0.58 | {-1}\\,{1}\\,{1} \\rangle$"
      ],
      "text/plain": [
       "<IPython.core.display.Math object>"
      ]
     },
     "metadata": {},
     "output_type": "display_data"
    },
    {
     "name": "stdout",
     "output_type": "stream",
     "text": [
      "->\n"
     ]
    },
    {
     "data": {
      "text/latex": [
       "$\\displaystyle  - 1.15 | {1}\\,{1}\\,{-1} \\rangle - 1.15 | {1}\\,{-1}\\,{1} \\rangle - 1.15 | {-1}\\,{1}\\,{1} \\rangle$"
      ],
      "text/plain": [
       "<IPython.core.display.Math object>"
      ]
     },
     "metadata": {},
     "output_type": "display_data"
    },
    {
     "data": {
      "text/latex": [
       "$\\displaystyle 0.41 | {0}\\,{1}\\,{-1} \\rangle + 0.41 | {0}\\,{-1}\\,{1} \\rangle + 0.41 | {1}\\,{0}\\,{-1} \\rangle + 0.41 | {1}\\,{-1}\\,{0} \\rangle + 0.41 | {-1}\\,{0}\\,{1} \\rangle + 0.41 | {-1}\\,{1}\\,{0} \\rangle$"
      ],
      "text/plain": [
       "<IPython.core.display.Math object>"
      ]
     },
     "metadata": {},
     "output_type": "display_data"
    },
    {
     "name": "stdout",
     "output_type": "stream",
     "text": [
      "->\n"
     ]
    },
    {
     "data": {
      "text/latex": [
       "$\\displaystyle  - 0.41 | {0}\\,{1}\\,{-1} \\rangle - 0.41 | {0}\\,{-1}\\,{1} \\rangle - 0.41 | {1}\\,{0}\\,{-1} \\rangle - 0.41 | {1}\\,{-1}\\,{0} \\rangle - 0.41 | {-1}\\,{0}\\,{1} \\rangle - 0.41 | {-1}\\,{1}\\,{0} \\rangle$"
      ],
      "text/plain": [
       "<IPython.core.display.Math object>"
      ]
     },
     "metadata": {},
     "output_type": "display_data"
    },
    {
     "data": {
      "text/latex": [
       "$\\displaystyle 0.58 | {0}\\,{0}\\,{-1} \\rangle + 0.58 | {0}\\,{-1}\\,{0} \\rangle + 0.58 | {-1}\\,{0}\\,{0} \\rangle$"
      ],
      "text/plain": [
       "<IPython.core.display.Math object>"
      ]
     },
     "metadata": {},
     "output_type": "display_data"
    },
    {
     "name": "stdout",
     "output_type": "stream",
     "text": [
      "->\n"
     ]
    },
    {
     "data": {
      "text/latex": [
       "$\\displaystyle $"
      ],
      "text/plain": [
       "<IPython.core.display.Math object>"
      ]
     },
     "metadata": {},
     "output_type": "display_data"
    },
    {
     "data": {
      "text/latex": [
       "$\\displaystyle 0.58 | {1}\\,{-1}\\,{-1} \\rangle + 0.58 | {-1}\\,{1}\\,{-1} \\rangle + 0.58 | {-1}\\,{-1}\\,{1} \\rangle$"
      ],
      "text/plain": [
       "<IPython.core.display.Math object>"
      ]
     },
     "metadata": {},
     "output_type": "display_data"
    },
    {
     "name": "stdout",
     "output_type": "stream",
     "text": [
      "->\n"
     ]
    },
    {
     "data": {
      "text/latex": [
       "$\\displaystyle  - 0.58 | {1}\\,{-1}\\,{-1} \\rangle - 0.58 | {-1}\\,{1}\\,{-1} \\rangle - 0.58 | {-1}\\,{-1}\\,{1} \\rangle$"
      ],
      "text/plain": [
       "<IPython.core.display.Math object>"
      ]
     },
     "metadata": {},
     "output_type": "display_data"
    },
    {
     "data": {
      "text/latex": [
       "$\\displaystyle 0.58 | {0}\\,{-1}\\,{-1} \\rangle + 0.58 | {-1}\\,{0}\\,{-1} \\rangle + 0.58 | {-1}\\,{-1}\\,{0} \\rangle$"
      ],
      "text/plain": [
       "<IPython.core.display.Math object>"
      ]
     },
     "metadata": {},
     "output_type": "display_data"
    },
    {
     "name": "stdout",
     "output_type": "stream",
     "text": [
      "->\n"
     ]
    },
    {
     "data": {
      "text/latex": [
       "$\\displaystyle $"
      ],
      "text/plain": [
       "<IPython.core.display.Math object>"
      ]
     },
     "metadata": {},
     "output_type": "display_data"
    },
    {
     "data": {
      "text/latex": [
       "$\\displaystyle 1.00 | {-1}\\,{-1}\\,{-1} \\rangle$"
      ],
      "text/plain": [
       "<IPython.core.display.Math object>"
      ]
     },
     "metadata": {},
     "output_type": "display_data"
    },
    {
     "name": "stdout",
     "output_type": "stream",
     "text": [
      "->\n"
     ]
    },
    {
     "data": {
      "text/latex": [
       "$\\displaystyle $"
      ],
      "text/plain": [
       "<IPython.core.display.Math object>"
      ]
     },
     "metadata": {},
     "output_type": "display_data"
    }
   ],
   "source": [
    "for state in all_fock_states:\n",
    "    if (com * state - state).data.nonzero()[0].shape[0] != 0:\n",
    "        print_state(state)\n",
    "        print('->')\n",
    "        print_state(com * state)"
   ]
  },
  {
   "cell_type": "code",
   "execution_count": null,
   "id": "e710319c-7bf4-4cc1-ac02-9cf884b1b318",
   "metadata": {},
   "outputs": [],
   "source": []
  }
 ],
 "metadata": {
  "kernelspec": {
   "display_name": "Python 3 (ipykernel)",
   "language": "python",
   "name": "python3"
  },
  "language_info": {
   "codemirror_mode": {
    "name": "ipython",
    "version": 3
   },
   "file_extension": ".py",
   "mimetype": "text/x-python",
   "name": "python",
   "nbconvert_exporter": "python",
   "pygments_lexer": "ipython3",
   "version": "3.8.10"
  }
 },
 "nbformat": 4,
 "nbformat_minor": 5
}
